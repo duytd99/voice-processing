{
 "cells": [
  {
   "cell_type": "code",
   "execution_count": 1,
   "metadata": {},
   "outputs": [],
   "source": [
    "import sounddevice as sd\n",
    "import soundfile as sf\n",
    "import time\n",
    "import queue"
   ]
  },
  {
   "cell_type": "code",
   "execution_count": 2,
   "metadata": {},
   "outputs": [],
   "source": [
    "q = queue.Queue()"
   ]
  },
  {
   "cell_type": "code",
   "execution_count": 3,
   "metadata": {},
   "outputs": [],
   "source": [
    "def callback(indata, frames, time, status):\n",
    "        \"\"\"This is called (from a separate thread) for each audio block.\"\"\"\n",
    "        if status:\n",
    "            print(status, file=sys.stderr)\n",
    "        q.put(indata.copy())"
   ]
  },
  {
   "cell_type": "code",
   "execution_count": 4,
   "metadata": {},
   "outputs": [],
   "source": [
    "def record(filename):\n",
    "        try:\n",
    "            with sf.SoundFile(filename, mode='x', samplerate=16000, channels=1) as file:\n",
    "                with sd.InputStream(samplerate=16000, device=sd.default.device, channels=1, callback=callback):\n",
    "                    print('Press any key to stop ')\n",
    "                    print('If not working, please interrupt the kernel manually')\n",
    "                    while True:\n",
    "                        file.write(q.get())\n",
    "        except KeyboardInterrupt:\n",
    "            print('Finished recording ' + filename)"
   ]
  },
  {
   "cell_type": "code",
   "execution_count": 5,
   "metadata": {},
   "outputs": [
    {
     "name": "stdout",
     "output_type": "stream",
     "text": [
      "Press any key to stop \n",
      "If not working, please interrupt the kernel manually\n",
      "Finished recording testRecord.wav\n"
     ]
    }
   ],
   "source": [
    "record('testRecord.wav')"
   ]
  },
  {
   "cell_type": "code",
   "execution_count": null,
   "metadata": {},
   "outputs": [],
   "source": []
  }
 ],
 "metadata": {
  "kernelspec": {
   "display_name": "Python 3",
   "language": "python",
   "name": "python3"
  },
  "language_info": {
   "codemirror_mode": {
    "name": "ipython",
    "version": 3
   },
   "file_extension": ".py",
   "mimetype": "text/x-python",
   "name": "python",
   "nbconvert_exporter": "python",
   "pygments_lexer": "ipython3",
   "version": "3.7.7"
  }
 },
 "nbformat": 4,
 "nbformat_minor": 4
}
